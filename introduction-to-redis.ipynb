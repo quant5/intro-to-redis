{
 "cells": [
  {
   "cell_type": "markdown",
   "metadata": {},
   "source": [
    "## Introduction to Redis\n",
    "\n",
    "Redis is a simple, in-memory key-value store. It has many useful applications when used in conjunction with Python, R, or similar languages where you want an extra layer of data persistence and/or parallel processing.\n",
    "\n",
    "Best of all, it's super easy to pick up and add to your arsenal.\n",
    "\n",
    "* The docs are really good: http://redis.io/commands\n",
    "* A useful primer: http://openmymind.net/redis.pdf\n",
    "* A book co-written by my ex-coworker at Yipit: https://books.google.com/books/about/Redis_Essentials.html?id=54REjgEACAAJ\n",
    "* Redis for R: https://cran.r-project.org/web/packages/rredis/vignettes/rredis.pdf"
   ]
  },
  {
   "cell_type": "code",
   "execution_count": 8,
   "metadata": {
    "collapsed": false
   },
   "outputs": [],
   "source": [
    "from redis import Redis\n",
    "\n",
    "# without decode_responses all responses will come to you as bytes\n",
    "r = Redis(host='localhost', port=6379, db=0, decode_responses=True)"
   ]
  },
  {
   "cell_type": "markdown",
   "metadata": {},
   "source": [
    "### Data types\n",
    "Redis supports 5 data types, each with their specific syntaxes (there's a lot in common):\n",
    "* strings\n",
    "* hashes\n",
    "* lists\n",
    "* sets\n",
    "* sorted sets\n",
    "\n",
    "Let's take a look these in the context of `redis-python`, a Python wrapper for Redis."
   ]
  },
  {
   "cell_type": "markdown",
   "metadata": {},
   "source": [
    "#### Strings\n",
    "* The most basic type; a simple key-value pair\n",
    "* Python equivalent: Strings"
   ]
  },
  {
   "cell_type": "code",
   "execution_count": 9,
   "metadata": {
    "collapsed": false,
    "scrolled": true
   },
   "outputs": [
    {
     "data": {
      "text/plain": [
       "'buy'"
      ]
     },
     "execution_count": 9,
     "metadata": {},
     "output_type": "execute_result"
    }
   ],
   "source": [
    "r.set('AAPL-rec', 'buy')\n",
    "r.get('AAPL-rec')"
   ]
  },
  {
   "cell_type": "code",
   "execution_count": 10,
   "metadata": {
    "collapsed": false
   },
   "outputs": [
    {
     "data": {
      "text/plain": [
       "'buy-strong'"
      ]
     },
     "execution_count": 10,
     "metadata": {},
     "output_type": "execute_result"
    }
   ],
   "source": [
    "r.append('AAPL-rec', '-strong')\n",
    "r.get('AAPL-rec')"
   ]
  },
  {
   "cell_type": "code",
   "execution_count": 11,
   "metadata": {
    "collapsed": false,
    "scrolled": true
   },
   "outputs": [
    {
     "data": {
      "text/plain": [
       "'7'"
      ]
     },
     "execution_count": 11,
     "metadata": {},
     "output_type": "execute_result"
    }
   ],
   "source": [
    "r.set('AAPL-conviction', 5)\n",
    "r.incrby('AAPL-conviction', 2)\n",
    "r.get('AAPL-conviction')"
   ]
  },
  {
   "cell_type": "markdown",
   "metadata": {},
   "source": [
    "#### Hashes\n",
    "* Each hash has a set of key-value pairs\n",
    "* Python equivalent: Dicts"
   ]
  },
  {
   "cell_type": "code",
   "execution_count": 12,
   "metadata": {
    "collapsed": false
   },
   "outputs": [
    {
     "data": {
      "text/plain": [
       "'114.06'"
      ]
     },
     "execution_count": 12,
     "metadata": {},
     "output_type": "execute_result"
    }
   ],
   "source": [
    "r.hset('AAPL-data', 'last-price', 114.06)\n",
    "r.hget('AAPL-data', 'last-price')"
   ]
  },
  {
   "cell_type": "code",
   "execution_count": 13,
   "metadata": {
    "collapsed": false
   },
   "outputs": [
    {
     "data": {
      "text/plain": [
       "{'employees': '100000',\n",
       " 'eps': '8.25',\n",
       " 'headquarters': 'Cupertino, CA',\n",
       " 'last-price': '114.06',\n",
       " 'mkt_cap': '615360.2',\n",
       " 'pe': '13.41'}"
      ]
     },
     "execution_count": 13,
     "metadata": {},
     "output_type": "execute_result"
    }
   ],
   "source": [
    "aapl_data = {\n",
    "    'pe': 13.41,\n",
    "    'eps': 8.25,\n",
    "    'mkt_cap': 615360.2,\n",
    "    'headquarters': 'Cupertino, CA',\n",
    "    'employees': 100000\n",
    "}\n",
    "r.hmset('AAPL-data', aapl_data)\n",
    "r.hgetall('AAPL-data')  # note how last-price also persisted under the key AAPL-data"
   ]
  },
  {
   "cell_type": "markdown",
   "metadata": {},
   "source": [
    "#### Lists\n",
    "* Lists let you store and manipulate an array of values for a given key\n",
    "* Redis lists are all LIFO, and inserts and pops are from the \"head\" of the list\n",
    "* Python equivalent: Lists"
   ]
  },
  {
   "cell_type": "code",
   "execution_count": 14,
   "metadata": {
    "collapsed": false
   },
   "outputs": [
    {
     "data": {
      "text/plain": [
       "'david'"
      ]
     },
     "execution_count": 14,
     "metadata": {},
     "output_type": "execute_result"
    }
   ],
   "source": [
    "users = ['alice', 'bob', 'cathy', 'david']\n",
    "for user in users:\n",
    "    r.lpush('users', user)\n",
    "r.lpop('users')"
   ]
  },
  {
   "cell_type": "code",
   "execution_count": 15,
   "metadata": {
    "collapsed": false
   },
   "outputs": [
    {
     "data": {
      "text/plain": [
       "'cathy'"
      ]
     },
     "execution_count": 15,
     "metadata": {},
     "output_type": "execute_result"
    }
   ],
   "source": [
    "r.lindex('users', 0)"
   ]
  },
  {
   "cell_type": "code",
   "execution_count": 16,
   "metadata": {
    "collapsed": false
   },
   "outputs": [
    {
     "data": {
      "text/plain": [
       "['cathy', 'bob', 'max', 'alice']"
      ]
     },
     "execution_count": 16,
     "metadata": {},
     "output_type": "execute_result"
    }
   ],
   "source": [
    "r.ltrim('users', 0, 2)  # inclusive\n",
    "\n",
    "r.linsert('users', 'before', 'alice', 'max')  # rare case where it looks up values\n",
    "r.lrange('users', 0, 10)"
   ]
  },
  {
   "cell_type": "markdown",
   "metadata": {},
   "source": [
    "#### Sets\n",
    "* Sets are used to store unique values and provide a number of set-based operations, like unions\n",
    "* Python equivalent: Sets\n"
   ]
  },
  {
   "cell_type": "code",
   "execution_count": 18,
   "metadata": {
    "collapsed": false,
    "scrolled": true
   },
   "outputs": [
    {
     "data": {
      "text/plain": [
       "True"
      ]
     },
     "execution_count": 18,
     "metadata": {},
     "output_type": "execute_result"
    }
   ],
   "source": [
    "r.sadd('tickers', 'AAPL', 'MCD', 'CMG', 'WMT')\n",
    "r.sismember('tickers', 'AAPL')"
   ]
  },
  {
   "cell_type": "code",
   "execution_count": 19,
   "metadata": {
    "collapsed": false
   },
   "outputs": [
    {
     "data": {
      "text/plain": [
       "{'AAPL', 'BBY', 'CAKE', 'CMG', 'DRI', 'MCD', 'WMT'}"
      ]
     },
     "execution_count": 19,
     "metadata": {},
     "output_type": "execute_result"
    }
   ],
   "source": [
    "r.sadd('more-tickers', 'BBY', 'CAKE', 'DRI')\n",
    "r.sunionstore('tickers', 'tickers', 'more-tickers')\n",
    "r.smembers('tickers')"
   ]
  },
  {
   "cell_type": "markdown",
   "metadata": {},
   "source": [
    "#### Sorted Sets\n",
    "* Sorted sets are sets, but each element is linked to a score\n",
    "* Python equivalent: Dicts (with numerical values)"
   ]
  },
  {
   "cell_type": "code",
   "execution_count": 20,
   "metadata": {
    "collapsed": false
   },
   "outputs": [
    {
     "data": {
      "text/plain": [
       "4"
      ]
     },
     "execution_count": 20,
     "metadata": {},
     "output_type": "execute_result"
    }
   ],
   "source": [
    "r.zadd('portfolio', 'AAPL', 50, 'MCD', 20, 'CMG', -50, 'WMT', -20)\n",
    "r.zcard('portfolio')"
   ]
  },
  {
   "cell_type": "code",
   "execution_count": 21,
   "metadata": {
    "collapsed": false
   },
   "outputs": [
    {
     "data": {
      "text/plain": [
       "-75.0"
      ]
     },
     "execution_count": 21,
     "metadata": {},
     "output_type": "execute_result"
    }
   ],
   "source": [
    "r.zincrby('portfolio', 'CMG', -25)\n",
    "r.zscore('portfolio', 'CMG')"
   ]
  },
  {
   "cell_type": "code",
   "execution_count": 22,
   "metadata": {
    "collapsed": false
   },
   "outputs": [
    {
     "data": {
      "text/plain": [
       "[('CMG', -75.0), ('WMT', -20.0), ('MCD', 20.0), ('AAPL', 50.0)]"
      ]
     },
     "execution_count": 22,
     "metadata": {},
     "output_type": "execute_result"
    }
   ],
   "source": [
    "r.zrange('portfolio', 0, 100, withscores=True)"
   ]
  },
  {
   "cell_type": "code",
   "execution_count": 23,
   "metadata": {
    "collapsed": false,
    "scrolled": true
   },
   "outputs": [
    {
     "data": {
      "text/plain": [
       "3"
      ]
     },
     "execution_count": 23,
     "metadata": {},
     "output_type": "execute_result"
    }
   ],
   "source": [
    "r.zrevrank('portfolio', 'CMG')"
   ]
  },
  {
   "cell_type": "markdown",
   "metadata": {},
   "source": [
    "#### Other useful commands\n",
    "\n",
    "* `keys()` shows all the keys in the current database\n",
    "* `delete(key)` deletes a key\n",
    "* `flushdb()` deletes all keys in the database\n",
    "* `flushall()` deletes all keys in all db's - use this carefully! You may have forgotten about keys in other db's\n",
    "* `rename(key, newkey)` renames key to newkey\n",
    "* `sort()` sorts a list, set or sorted set\n",
    "* `setex()`, expire() sets expiration flag on a key for n seconds, after which the key will disappear\n",
    "* `pubsub()` creates a publisher-subscriber pattern. More info: http://redis.io/topics/pubsub\n",
    "* `eval()` evaluates Lua scripts"
   ]
  },
  {
   "cell_type": "code",
   "execution_count": 24,
   "metadata": {
    "collapsed": false
   },
   "outputs": [
    {
     "name": "stdout",
     "output_type": "stream",
     "text": [
      "['max', 'cathy', 'bob', 'alice']\n"
     ]
    }
   ],
   "source": [
    "print(r.sort('users', desc=True, alpha=True))"
   ]
  },
  {
   "cell_type": "code",
   "execution_count": 25,
   "metadata": {
    "collapsed": false
   },
   "outputs": [
    {
     "data": {
      "text/plain": [
       "['AAPL-conviction',\n",
       " 'tickers',\n",
       " 'more-tickers',\n",
       " 'AAPL-data',\n",
       " 'AAPL-rec',\n",
       " 'portfolio',\n",
       " 'users']"
      ]
     },
     "execution_count": 25,
     "metadata": {},
     "output_type": "execute_result"
    }
   ],
   "source": [
    "r.keys()"
   ]
  },
  {
   "cell_type": "code",
   "execution_count": 26,
   "metadata": {
    "collapsed": false,
    "scrolled": true
   },
   "outputs": [
    {
     "data": {
      "text/plain": [
       "[]"
      ]
     },
     "execution_count": 26,
     "metadata": {},
     "output_type": "execute_result"
    }
   ],
   "source": [
    "r.flushdb()\n",
    "r.keys()"
   ]
  },
  {
   "cell_type": "code",
   "execution_count": 29,
   "metadata": {
    "collapsed": false
   },
   "outputs": [
    {
     "data": {
      "text/plain": [
       "True"
      ]
     },
     "execution_count": 29,
     "metadata": {},
     "output_type": "execute_result"
    }
   ],
   "source": [
    "r.set('key', 'value')\n",
    "r.expire('key', 5)"
   ]
  },
  {
   "cell_type": "code",
   "execution_count": 32,
   "metadata": {
    "collapsed": false
   },
   "outputs": [],
   "source": [
    "r.get('key')"
   ]
  },
  {
   "cell_type": "markdown",
   "metadata": {},
   "source": [
    "### Redis applications\n",
    "\n",
    "How will this save me time / make my job easier? Here are two generic examples.\n",
    "\n",
    "#### Example 1: data persistence\n",
    "\n",
    "Redis is great for persisting objects across your programming instances."
   ]
  },
  {
   "cell_type": "code",
   "execution_count": 33,
   "metadata": {
    "collapsed": false
   },
   "outputs": [],
   "source": [
    "from redis import Redis\n",
    "import random\n",
    "from string import ascii_letters\n",
    "\n",
    "r = Redis(host='localhost', port=6379, db=0, decode_responses=True)\n",
    "\n",
    "hugestring = ''.join([random.choice(ascii_letters) for i in range(1000000)])"
   ]
  },
  {
   "cell_type": "code",
   "execution_count": null,
   "metadata": {
    "collapsed": false
   },
   "outputs": [],
   "source": [
    "hugestring  # Compare how long it takes for jupyter nb to display it..."
   ]
  },
  {
   "cell_type": "code",
   "execution_count": 34,
   "metadata": {
    "collapsed": false,
    "scrolled": true
   },
   "outputs": [
    {
     "data": {
      "text/plain": [
       "True"
      ]
     },
     "execution_count": 34,
     "metadata": {},
     "output_type": "execute_result"
    }
   ],
   "source": [
    "r.set('key', hugestring)  # ...with how long it took for it to be stored in Redis"
   ]
  },
  {
   "cell_type": "markdown",
   "metadata": {},
   "source": [
    "Have a general python object that you want to store in Redis? No problem - just `pickle` it"
   ]
  },
  {
   "cell_type": "code",
   "execution_count": 35,
   "metadata": {
    "collapsed": false
   },
   "outputs": [
    {
     "data": {
      "text/plain": [
       "True"
      ]
     },
     "execution_count": 35,
     "metadata": {},
     "output_type": "execute_result"
    }
   ],
   "source": [
    "import pickle\n",
    "import requests\n",
    "\n",
    "res = requests.get('http://www.google.com')  # this is a requests.Response object\n",
    "pickled_object = pickle.dumps(res)\n",
    "\n",
    "r.set('foo', pickled_object)"
   ]
  },
  {
   "cell_type": "markdown",
   "metadata": {},
   "source": [
    "#### Example 2: task queues\n",
    "\n",
    "Redis's `list` data type is a natural choice for task queues. This is a common Redis application for a language with limited async capabilities like Python. There are many Redis-based wrappers like [rq](http://python-rq.org/) and [celery](http://www.celeryproject.org/), etc but here's a low level implementation:"
   ]
  },
  {
   "cell_type": "code",
   "execution_count": null,
   "metadata": {
    "collapsed": true
   },
   "outputs": [],
   "source": [
    "# this should be a standalone module, but I've shown the code for sake of illustration\n",
    "from redis import Redis\n",
    "\n",
    "class RedisQueue(object):\n",
    "    def __init__(self, key='queue', **redis_kwargs):\n",
    "       self.__db = Redis(**redis_kwargs)\n",
    "       self.key = key\n",
    "\n",
    "    def queue_size(self):\n",
    "        return self.__db.llen(self.key)\n",
    "\n",
    "    def is_empty(self):\n",
    "        return self.queue_size() == 0\n",
    "\n",
    "    def put(self, item):\n",
    "        self.__db.rpush(self.key, item)\n",
    "\n",
    "    def get(self, block=True, timeout=None):\n",
    "        if block:\n",
    "            item = self.__db.blpop(self.key, timeout=timeout)\n",
    "        else:\n",
    "            item = self.__db.lpop(self.key)\n",
    "        if item:\n",
    "            item = item[1]\n",
    "        return item"
   ]
  },
  {
   "cell_type": "code",
   "execution_count": null,
   "metadata": {
    "collapsed": true
   },
   "outputs": [],
   "source": [
    "import time\n",
    "\n",
    "def method_that_takes_awhile(foo):\n",
    "    time.sleep(5)\n",
    "    print('done with task {}'.format(foo))\n",
    "\n",
    "tasks = ['A', 'B', 'C', 'D', 'E', 'F', 'G']"
   ]
  },
  {
   "cell_type": "code",
   "execution_count": null,
   "metadata": {
    "collapsed": false,
    "scrolled": true
   },
   "outputs": [],
   "source": [
    "# the way most of us probably do it\n",
    "for task in tasks:\n",
    "    method_that_takes_awhile(task)\n",
    "print('all done')"
   ]
  },
  {
   "cell_type": "code",
   "execution_count": null,
   "metadata": {
    "collapsed": false
   },
   "outputs": [],
   "source": [
    "# put the tasks in the queue instead\n",
    "\n",
    "rq = RedisQueue()\n",
    "for task in tasks:\n",
    "    rq.put(task)"
   ]
  },
  {
   "cell_type": "markdown",
   "metadata": {},
   "source": [
    "Now, simply launch separate instances of Python (see `redis-worker.ipynb`) and run the worker script:"
   ]
  },
  {
   "cell_type": "code",
   "execution_count": null,
   "metadata": {
    "collapsed": false,
    "scrolled": false
   },
   "outputs": [],
   "source": [
    "while not rq.is_empty():\n",
    "    task = rq.get()\n",
    "    method_that_takes_awhile(task)\n",
    "print('All done')"
   ]
  },
  {
   "cell_type": "markdown",
   "metadata": {},
   "source": [
    "### Key redis drawbacks\n",
    "\n",
    "* Unable to search by values. Redis isn't sql!\n",
    "* You cannot roll back transactions (be careful with `flushdb` and `flushall`...)\n",
    "* Redis resides RAM so may be costly for your local machine\n",
    "    * Solution: dedicated machine that runs Redis. This was our setup at Yipit\n",
    "* Key management may be cumbersome if you don't remember what's in what key\n",
    "\n",
    "### Any questions?"
   ]
  }
 ],
 "metadata": {
  "kernelspec": {
   "display_name": "Python 3",
   "language": "python",
   "name": "python3"
  },
  "language_info": {
   "codemirror_mode": {
    "name": "ipython",
    "version": 3
   },
   "file_extension": ".py",
   "mimetype": "text/x-python",
   "name": "python",
   "nbconvert_exporter": "python",
   "pygments_lexer": "ipython3",
   "version": "3.4.4"
  }
 },
 "nbformat": 4,
 "nbformat_minor": 0
}
