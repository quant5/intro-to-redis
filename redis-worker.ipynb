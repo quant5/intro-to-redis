{
 "cells": [
  {
   "cell_type": "code",
   "execution_count": null,
   "metadata": {
    "collapsed": true
   },
   "outputs": [],
   "source": [
    "from redis import Redis\n",
    "import time\n",
    "\n",
    "class RedisQueue(object):\n",
    "    def __init__(self, key='queue', **redis_kwargs):\n",
    "       self.__db = Redis(**redis_kwargs)\n",
    "       self.key = key\n",
    "\n",
    "    def qsize(self):  # size of the queue\n",
    "        return self.__db.llen(self.key)\n",
    "\n",
    "    def isempty(self):\n",
    "        return self.qsize() == 0\n",
    "\n",
    "    def put(self, item):\n",
    "        self.__db.rpush(self.key, item)\n",
    "\n",
    "    def get(self, block=True, timeout=None):\n",
    "        if block:\n",
    "            item = self.__db.blpop(self.key, timeout=timeout)\n",
    "        else:\n",
    "            item = self.__db.lpop(self.key)\n",
    "        if item:\n",
    "            item = item[1]\n",
    "        return item\n",
    "\n",
    "def method_that_takes_awhile(foo):\n",
    "    time.sleep(10)\n",
    "    print('done with task {}'.format(foo))"
   ]
  },
  {
   "cell_type": "code",
   "execution_count": null,
   "metadata": {
    "collapsed": false
   },
   "outputs": [],
   "source": [
    "rq = RedisQueue()\n",
    "\n",
    "while not rq.isempty():\n",
    "    task = rq.get()\n",
    "    method_that_takes_awhile(task)\n",
    "print('All done')"
   ]
  }
 ],
 "metadata": {
  "kernelspec": {
   "display_name": "Python 3",
   "language": "python",
   "name": "python3"
  },
  "language_info": {
   "codemirror_mode": {
    "name": "ipython",
    "version": 3
   },
   "file_extension": ".py",
   "mimetype": "text/x-python",
   "name": "python",
   "nbconvert_exporter": "python",
   "pygments_lexer": "ipython3",
   "version": "3.4.4"
  }
 },
 "nbformat": 4,
 "nbformat_minor": 0
}
